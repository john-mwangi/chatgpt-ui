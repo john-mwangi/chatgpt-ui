{
 "cells": [
  {
   "cell_type": "code",
   "execution_count": 151,
   "metadata": {},
   "outputs": [],
   "source": [
    "import openai\n",
    "import os\n",
    "import pickle\n",
    "from dotenv import load_dotenv\n",
    "from pprint import pprint"
   ]
  },
  {
   "cell_type": "code",
   "execution_count": 152,
   "metadata": {},
   "outputs": [
    {
     "data": {
      "text/plain": [
       "True"
      ]
     },
     "execution_count": 152,
     "metadata": {},
     "output_type": "execute_result"
    }
   ],
   "source": [
    "load_dotenv()"
   ]
  },
  {
   "cell_type": "code",
   "execution_count": 153,
   "metadata": {},
   "outputs": [],
   "source": [
    "new_conversation = True\n",
    "prompt = \"\"\"Use Chrome instead\"\"\""
   ]
  },
  {
   "cell_type": "code",
   "execution_count": 154,
   "metadata": {},
   "outputs": [],
   "source": [
    "model = \"gpt-4-1106-preview\"\n",
    "input_cost_usd_per_1K_tokens = 0.01\n",
    "output_cost_usd_per_1K_tokens = 0.03\n",
    "\n",
    "API_KEY = os.environ[\"API_KEY\"]\n",
    "openai.api_key = API_KEY"
   ]
  },
  {
   "cell_type": "code",
   "execution_count": 155,
   "metadata": {},
   "outputs": [],
   "source": [
    "def prompt_gpt(\n",
    "    model: str = model,\n",
    "    messages: list[str] = [\"\"],\n",
    ") -> str:\n",
    "    \"\"\"\n",
    "    Useful links:\n",
    "    ---\n",
    "    models: https://platform.openai.com/docs/models/gpt-3-5\n",
    "    account balance: https://platform.openai.com/account/billing/overview\n",
    "    create params: https://platform.openai.com/docs/api-reference/chat/create\n",
    "    pricing: https://openai.com/pricing\n",
    "    \"\"\"\n",
    "\n",
    "    response = openai.ChatCompletion.create(model=model, messages=messages)\n",
    "    msg = response.get(\"choices\")[0].get(\"message\").get(\"content\")\n",
    "\n",
    "    assistant = {\"role\": \"assistant\", \"content\": msg}\n",
    "    messages.append(assistant)\n",
    "    \n",
    "    input_tokens = response.get(\"usage\").get(\"prompt_tokens\")\n",
    "    output_tokens = response.get(\"usage\").get(\"prompt_tokens\")\n",
    "\n",
    "    return {\n",
    "        \"msg\": msg, \n",
    "        \"messages\": messages, \n",
    "        \"input_tokens\": input_tokens, \n",
    "        \"output_tokens\": output_tokens\n",
    "        }"
   ]
  },
  {
   "cell_type": "code",
   "execution_count": 164,
   "metadata": {},
   "outputs": [],
   "source": [
    "def calculate_cost(input_tokens: int, output_tokens: int):\n",
    "    input_tokens_thousands = input_tokens / 1000\n",
    "    output_tokens_thousands = output_tokens / 1000\n",
    "    \n",
    "    input_cost = input_tokens_thousands * input_cost_usd_per_1K_tokens\n",
    "    output_cost = output_tokens_thousands * output_cost_usd_per_1K_tokens\n",
    "    \n",
    "    print(\"Tokens used:\", input_tokens + output_tokens)\n",
    "    print(\"Prompt cost USD:\", input_cost + output_cost)"
   ]
  },
  {
   "cell_type": "code",
   "execution_count": 157,
   "metadata": {},
   "outputs": [],
   "source": [
    "role = \"You are an expert Python programmer\"\n",
    "messages = [\n",
    "    {\"role\": \"system\", \"content\": role},\n",
    "    {\"role\": \"user\", \"content\": prompt},\n",
    "]"
   ]
  },
  {
   "cell_type": "code",
   "execution_count": 158,
   "metadata": {},
   "outputs": [
    {
     "name": "stdout",
     "output_type": "stream",
     "text": [
      "No history to load\n"
     ]
    }
   ],
   "source": [
    "if not new_conversation:\n",
    "    if not os.path.exists(\"messages.pkl\"):\n",
    "        print(\"No history to load\")\n",
    "    else:\n",
    "        with open(\"messages.pkl\", mode=\"rb\") as m:\n",
    "            messages = pickle.load(m)\n",
    "            messages.append({\"role\": \"user\", \"content\": prompt})"
   ]
  },
  {
   "cell_type": "code",
   "execution_count": 165,
   "metadata": {},
   "outputs": [
    {
     "name": "stdout",
     "output_type": "stream",
     "text": [
      "Tokens used: 734\n",
      "Prompt cost USD: 0.014679999999999999\n"
     ]
    }
   ],
   "source": [
    "result = prompt_gpt(messages=messages)\n",
    "calculate_cost(input_tokens=result.get(\"input_tokens\"), output_tokens=result.get(\"output_tokens\"))"
   ]
  },
  {
   "cell_type": "code",
   "execution_count": 160,
   "metadata": {},
   "outputs": [
    {
     "name": "stdout",
     "output_type": "stream",
     "text": [
      "(\"The error message you're seeing suggests that the Firefox WebDriver process \"\n",
      " 'initiated by Selenium has unexpectedly terminated. Here are some common '\n",
      " 'reasons why this might happen and steps you can take to troubleshoot the '\n",
      " 'issue:\\n'\n",
      " '\\n'\n",
      " '1. GeckoDriver and Firefox Compatibility:\\n'\n",
      " '   Ensure that the version of GeckoDriver and Firefox you have installed is '\n",
      " 'compatible. Sometimes, new versions of Firefox require a corresponding '\n",
      " 'update of GeckoDriver. Visit the official [GeckoDriver releases '\n",
      " 'page](https://github.com/mozilla/geckodriver/releases) to download the '\n",
      " 'latest version.\\n'\n",
      " '\\n'\n",
      " '2. Corrupted Firefox Profile:\\n'\n",
      " '   A corrupted Firefox profile can cause the WebDriver to fail. Try creating '\n",
      " 'a new Firefox profile or resetting the existing one.\\n'\n",
      " '\\n'\n",
      " '3. Missing or Incorrect Path to GeckoDriver:\\n'\n",
      " '   Confirm that GeckoDriver is installed and that its executable is in your '\n",
      " \"system's PATH, or specify its path directly in your script. You can set the \"\n",
      " 'path explicitly by modifying the service argument as shown below:\\n'\n",
      " '\\n'\n",
      " '   ```python\\n'\n",
      " '   from selenium.webdriver.firefox.service import Service\\n'\n",
      " '   from selenium.webdriver.firefox.options import Options\\n'\n",
      " '   from selenium.webdriver import Firefox\\n'\n",
      " '\\n'\n",
      " \"   service = Service('/path/to/geckodriver')\\n\"\n",
      " '   options = Options()\\n'\n",
      " '   # Set any options you need\\n'\n",
      " '   driver = Firefox(service=service, options=options)\\n'\n",
      " '   ```\\n'\n",
      " '\\n'\n",
      " '4. Firefox Installation Issues:\\n'\n",
      " '   Sometimes, the Firefox installation itself might be problematic. '\n",
      " 'Reinstalling Firefox or updating it to the latest version could resolve this '\n",
      " 'issue.\\n'\n",
      " '\\n'\n",
      " '5. System Compatibility:\\n'\n",
      " '   Make sure that your operating system is compatible with the versions of '\n",
      " \"Firefox and GeckoDriver you're using.\\n\"\n",
      " '\\n'\n",
      " '6. Antivirus or Firewall:\\n'\n",
      " \"   Your system's antivirus software or firewall might be interfering with \"\n",
      " 'the WebDriver. Try temporarily disabling them to see if that resolves the '\n",
      " 'issue.\\n'\n",
      " '\\n'\n",
      " '7. Debugging the Driver:\\n'\n",
      " \"   It can be helpful to see the GeckoDriver's output directly. You can \"\n",
      " 'enable logging by passing a `service_log_path` argument to the Service '\n",
      " 'class:\\n'\n",
      " '\\n'\n",
      " '   ```python\\n'\n",
      " \"   service = Service('/path/to/geckodriver', \"\n",
      " \"service_log_path='geckodriver.log')\\n\"\n",
      " '   ```\\n'\n",
      " '\\n'\n",
      " 'If none of these steps resolve the problem, try looking at the '\n",
      " '`geckodriver.log` file to get more insights into the failure. You can also '\n",
      " 'consider running a simpler script to see if the WebDriver can be initiated '\n",
      " 'on its own, without additional configurations, which could indicate that the '\n",
      " 'problem lies elsewhere in the original script or its environment.')\n"
     ]
    }
   ],
   "source": [
    "pprint(result.get(\"msg\"))"
   ]
  },
  {
   "cell_type": "code",
   "execution_count": 161,
   "metadata": {},
   "outputs": [],
   "source": [
    "with open(\"messages.pkl\", mode=\"wb\") as f:\n",
    "    pickle.dump(result.get(\"msgs\"), file=f)"
   ]
  }
 ],
 "metadata": {
  "kernelspec": {
   "display_name": "chatgpt",
   "language": "python",
   "name": "python3"
  },
  "language_info": {
   "codemirror_mode": {
    "name": "ipython",
    "version": 3
   },
   "file_extension": ".py",
   "mimetype": "text/x-python",
   "name": "python",
   "nbconvert_exporter": "python",
   "pygments_lexer": "ipython3",
   "version": "3.10.13"
  },
  "orig_nbformat": 4
 },
 "nbformat": 4,
 "nbformat_minor": 2
}
